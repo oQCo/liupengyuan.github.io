{
 "cells": [
  {
   "cell_type": "code",
   "execution_count": null,
   "metadata": {
    "collapsed": false
   },
   "outputs": [],
   "source": [
    "def reverse (s):\n",
    "    print(s[len(s)-1::-1])\n",
    "s=str(input(\"plz enter a string\"))\n",
    "reverse(s)"
   ]
  },
  {
   "cell_type": "code",
   "execution_count": 2,
   "metadata": {
    "collapsed": false
   },
   "outputs": [
    {
     "ename": "IndentationError",
     "evalue": "unexpected indent (<ipython-input-2-b1ba39b65dc0>, line 6)",
     "output_type": "error",
     "traceback": [
      "\u001b[1;36m  File \u001b[1;32m\"<ipython-input-2-b1ba39b65dc0>\"\u001b[1;36m, line \u001b[1;32m6\u001b[0m\n\u001b[1;33m    t('|'+'_'*i+'\\\\')\u001b[0m\n\u001b[1;37m    ^\u001b[0m\n\u001b[1;31mIndentationError\u001b[0m\u001b[1;31m:\u001b[0m unexpected indent\n"
     ]
    }
   ],
   "source": [
    "def triangle (x):\n",
    "    for i in range (x): \n",
    "        if i<x-1:\n",
    "            print('|'+' '*i+'\\\\')\n",
    "        elif i==x-1:  prin\n",
    "            t('|'+'_'*i+'\\\\')\n",
    "    print(' ')\n",
    "    for i in range (x):\n",
    "        if i<x-1:\n",
    "            print(' '*(x-i)+'/'+' '*(2*i)+'\\\\')\n",
    "        elif i==x-1:\n",
    "            print(' '+'/'+'_'*(i+x-1)+'\\\\')\n",
    "    \n",
    "x=int(input(\"plz enter the height of the triangle\\n\"))\n",
    "triangle(x)"
   ]
  },
  {
   "cell_type": "code",
   "execution_count": null,
   "metadata": {
    "collapsed": true
   },
   "outputs": [],
   "source": [
    "def change(word):\n",
    "    print('The plurality of the noun is  ',end='')\n",
    "    if word.endswith('ch') or word.endswith('sh'):\n",
    "        print(word+'es')\n",
    "    elif word.endswith('x') or word.endswith('s') or word.endswith('es'):\n",
    "        print(word+'es')\n",
    "    elif word.endswith('f'):\n",
    "        print(word[:len(word)-1:]+'ves')\n",
    "    elif word.endswith('y'):\n",
    "        print(word[:len(word)-1:]+'ies')\n",
    "    else: print(word+'s')\n",
    "        \n",
    "word=str(input(\"plz enter a countable noun\\n\"))\n",
    "change(word)"
   ]
  },
  {
   "cell_type": "code",
   "execution_count": 3,
   "metadata": {
    "collapsed": false
   },
   "outputs": [
    {
     "name": "stdout",
     "output_type": "stream",
     "text": [
      "请输入梯形的上底长5\n",
      "请输入梯形的高4\n",
      "由于技术不娴熟，梯形的底由前两个输入值计算得出\n",
      "\n"
     ]
    },
    {
     "ename": "NameError",
     "evalue": "name 'y' is not defined",
     "output_type": "error",
     "traceback": [
      "\u001b[1;31m---------------------------------------------------------------------------\u001b[0m",
      "\u001b[1;31mNameError\u001b[0m                                 Traceback (most recent call last)",
      "\u001b[1;32m<ipython-input-3-8aa682f8fa16>\u001b[0m in \u001b[0;36m<module>\u001b[1;34m()\u001b[0m\n\u001b[0;32m     11\u001b[0m \u001b[0mh\u001b[0m\u001b[1;33m=\u001b[0m\u001b[0mint\u001b[0m\u001b[1;33m(\u001b[0m\u001b[0minput\u001b[0m\u001b[1;33m(\u001b[0m\u001b[1;34m'请输入梯形的高'\u001b[0m\u001b[1;33m)\u001b[0m\u001b[1;33m)\u001b[0m\u001b[1;33m\u001b[0m\u001b[0m\n\u001b[0;32m     12\u001b[0m \u001b[0mprint\u001b[0m\u001b[1;33m(\u001b[0m\u001b[1;34m'由于技术不娴熟，梯形的底由前两个输入值计算得出\\n'\u001b[0m\u001b[1;33m)\u001b[0m\u001b[1;33m\u001b[0m\u001b[0m\n\u001b[1;32m---> 13\u001b[1;33m \u001b[0mtrapezoid\u001b[0m\u001b[1;33m(\u001b[0m\u001b[0mx\u001b[0m\u001b[1;33m,\u001b[0m\u001b[0my\u001b[0m\u001b[1;33m,\u001b[0m\u001b[0mh\u001b[0m\u001b[1;33m)\u001b[0m\u001b[1;33m\u001b[0m\u001b[0m\n\u001b[0m",
      "\u001b[1;31mNameError\u001b[0m: name 'y' is not defined"
     ]
    }
   ],
   "source": [
    "def trapezoid (x,y,h):\n",
    "    d=h-1\n",
    "    for i in range(h):\n",
    "        if i==0:\n",
    "            print(' '*(d-i)+'/'+'-'*x+'\\\\'+' '*(d-i))\n",
    "        elif i<h-1:\n",
    "            print(' '*(d-i)+'/'+' '*(x+2*(i))+'\\\\'+' '*(d-i))\n",
    "        elif i==h-1:\n",
    "            print(' '*(d-i)+'/'+'_'*(2*i+x)+'\\\\')\n",
    "x=int(input('请输入梯形的上底长'))\n",
    "h=int(input('请输入梯形的高'))\n",
    "print('由于技术不娴熟，梯形的底由前两个输入值计算得出\\n')\n",
    "trapezoid(x,y,h)"
   ]
  },
  {
   "cell_type": "code",
   "execution_count": null,
   "metadata": {
    "collapsed": true
   },
   "outputs": [],
   "source": [
    "def rhombus (x):\n",
    "    for i in range (x):\n",
    "            print(' '*(x-i)+'/'+' '*(2*i)+'\\\\')\n",
    "    for i in range(x-1,-1,-1):\n",
    "        print(' '*(x-i)+'\\\\'+' '*(2*(i))+'/')\n",
    "x=int(input('请输入菱形的边长  '))\n",
    "rhombus(x)"
   ]
  },
  {
   "cell_type": "code",
   "execution_count": null,
   "metadata": {
    "collapsed": true
   },
   "outputs": [],
   "source": [
    "def inverted(x):\n",
    "    for i in range(len(x)*2,0,-1):\n",
    "        if i == 1:\n",
    "            print(' '*(len(x)*2-1) +x[0])\n",
    "        elif i%2 == 1:\n",
    "            print(' '*(len(x)*2-i) + x[:i//2] + x[i//2] + x[i//2-1::-1])\n",
    "        else:\n",
    "            print(' '*(len(x)*2-i) + x[:i//2] + x[i//2-1::-1])\n",
    "\n",
    "def main():\n",
    "    word = '赏花归去马如飞'\n",
    "    inverted (word)\n",
    "    \n",
    "\n",
    "if __name__ == '__main__':\n",
    "    main()"
   ]
  }
 ],
 "metadata": {
  "kernelspec": {
   "display_name": "Python 3",
   "language": "python",
   "name": "python3"
  }
 },
 "nbformat": 4,
 "nbformat_minor": 2
}
